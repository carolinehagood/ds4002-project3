{
  "nbformat": 4,
  "nbformat_minor": 0,
  "metadata": {
    "colab": {
      "provenance": [],
      "mount_file_id": "1dcXITry9P5n8muH-CwZPdNW_GxzN_Qoc",
      "authorship_tag": "ABX9TyN1FVJ6dzg8cX4FZTCKK9EV",
      "include_colab_link": true
    },
    "kernelspec": {
      "name": "python3",
      "display_name": "Python 3"
    },
    "language_info": {
      "name": "python"
    }
  },
  "cells": [
    {
      "cell_type": "markdown",
      "metadata": {
        "id": "view-in-github",
        "colab_type": "text"
      },
      "source": [
        "<a href=\"https://colab.research.google.com/github/carolinehagood/ds4002-project3/blob/main/project3_loadingdata.ipynb\" target=\"_parent\"><img src=\"https://colab.research.google.com/assets/colab-badge.svg\" alt=\"Open In Colab\"/></a>"
      ]
    },
    {
      "cell_type": "code",
      "execution_count": null,
      "metadata": {
        "id": "Z0h2VcEpA_uU"
      },
      "outputs": [],
      "source": [
        "import os\n",
        "import numpy as np\n",
        "import pandas as pd\n",
        "from tensorflow.keras.preprocessing.image import ImageDataGenerator\n",
        "from tensorflow.keras.models import Sequential\n",
        "from tensorflow.keras.layers import Conv2D, MaxPooling2D, Flatten, Dense, Dropout\n",
        "from tensorflow.keras.optimizers import Adam\n",
        "from sklearn.model_selection import train_test_split\n",
        "from tensorflow.keras.utils import to_categorical\n",
        "from PIL import Image"
      ]
    },
    {
      "cell_type": "code",
      "source": [
        "\n",
        "from google.colab import drive\n",
        "drive.mount(\"/content/drive\", force_remount=True)\n",
        "import zipfile\n",
        "import os\n",
        "\n"
      ],
      "metadata": {
        "colab": {
          "base_uri": "https://localhost:8080/"
        },
        "collapsed": true,
        "id": "sBoaFtAeSNQ2",
        "outputId": "1ade6698-1256-4b24-f51e-44631b2a44d5"
      },
      "execution_count": null,
      "outputs": [
        {
          "output_type": "stream",
          "name": "stdout",
          "text": [
            "Mounted at /content/drive\n"
          ]
        }
      ]
    },
    {
      "cell_type": "code",
      "source": [
        "# Path to the zip file in Google Drive\n",
        "zip_path = '/content/drive/MyDrive/dogimages.zip'\n",
        "extract_path = '/content/Dogs'  # Choose a location in Colab to extract the files\n",
        "\n",
        "# Unzip the file\n",
        "try:\n",
        "    with zipfile.ZipFile(zip_path, 'r') as zip_ref:\n",
        "        zip_ref.extractall(extract_path)\n",
        "    print(\"Files unzipped successfully.\")\n",
        "except FileNotFoundError:\n",
        "    print(\"Zip file not found at the specified path.\")\n",
        "except zipfile.BadZipFile:\n",
        "    print(\"The file is not a zip file or is corrupted.\")\n",
        "except Exception as e:\n",
        "    print(f\"An error occurred: {e}\")\n"
      ],
      "metadata": {
        "colab": {
          "base_uri": "https://localhost:8080/"
        },
        "id": "YoIKSQH2l0o-",
        "outputId": "f2cf576c-091d-434b-e716-39d1adabba10"
      },
      "execution_count": null,
      "outputs": [
        {
          "output_type": "stream",
          "name": "stdout",
          "text": [
            "Files unzipped successfully.\n"
          ]
        }
      ]
    },
    {
      "cell_type": "code",
      "source": [
        "images_dir = '/content/Dogs/dog-images'\n"
      ],
      "metadata": {
        "id": "EZTT4SoDUxVM"
      },
      "execution_count": null,
      "outputs": []
    },
    {
      "cell_type": "code",
      "source": [
        "#function to load images and create dataframe\n",
        "import re\n",
        "from sklearn.preprocessing import LabelEncoder\n",
        "\n",
        "def load_images_with_labels(images_dir, img_size=(128, 128)):\n",
        "    image_data = []\n",
        "    breed_labels = []\n",
        "\n",
        "    # Get list of breed folders\n",
        "    breed_names = sorted(os.listdir(images_dir))\n",
        "\n",
        "    for breed in breed_names:\n",
        "        breed_folder_path = os.path.join(images_dir, breed)\n",
        "\n",
        "        # Only proceed if it's a directory\n",
        "        if not os.path.isdir(breed_folder_path):\n",
        "            continue\n",
        "\n",
        "        for image_file in os.listdir(breed_folder_path):\n",
        "            image_path = os.path.join(breed_folder_path, image_file)\n",
        "\n",
        "            # Check if the current file is an image\n",
        "            if os.path.isfile(image_path) and image_file.lower().endswith(('.png', '.jpg', '.jpeg')):\n",
        "                try:\n",
        "                    # Open and resize the image\n",
        "                    img = Image.open(image_path).resize(img_size)\n",
        "                    img = np.array(img)\n",
        "\n",
        "                    # Check if image has three color channels (RGB)\n",
        "                    if img.shape == (img_size[0], img_size[1], 3):\n",
        "                        # Flatten the image (convert 128x128x3 to 1D array)\n",
        "                        image_data.append(img.flatten())\n",
        "                        breed_labels.append(breed)\n",
        "                except Exception as e:\n",
        "                    print(f\"Could not load image {image_path}: {e}\")\n",
        "\n",
        "    # Convert lists to numpy arrays for efficient processing\n",
        "    image_data = np.array(image_data)\n",
        "\n",
        "    # Normalize image data (scaling pixel values between 0 and 1)\n",
        "    image_data = image_data / 255.0\n",
        "\n",
        "    # Apply LabelEncoder to convert breed names to numeric labels\n",
        "    label_encoder = LabelEncoder()\n",
        "    encoded_labels = label_encoder.fit_transform(breed_labels)\n",
        "\n",
        "    # Create a DataFrame for organized data\n",
        "    data_df = pd.DataFrame(image_data)\n",
        "\n",
        "    # Add the encoded labels as a new column\n",
        "    data_df['breed'] = encoded_labels\n",
        "\n",
        "    # Add breed names as a new column (optional)\n",
        "    data_df['breed_name'] = data_df['breed'].apply(lambda x: label_encoder.inverse_transform([x])[0])\n",
        "\n",
        "    return data_df, image_data, encoded_labels, label_encoder\n",
        "\n",
        "\n",
        "# Path to extracted images directory\n",
        "images_dir = '/content/Dogs/dog-images'\n",
        "\n",
        "# Load images and labels\n",
        "data_df, image_data, encoded_labels, label_encoder = load_images_with_labels(images_dir)\n"
      ],
      "metadata": {
        "id": "aT5hWgkYBmbl"
      },
      "execution_count": null,
      "outputs": []
    },
    {
      "cell_type": "code",
      "source": [
        "print(data_df.head(2))\n"
      ],
      "metadata": {
        "colab": {
          "base_uri": "https://localhost:8080/"
        },
        "id": "3q9dCLLxqnLQ",
        "outputId": "057350c8-2fbb-47e0-8b3e-58fd44363b5b"
      },
      "execution_count": null,
      "outputs": [
        {
          "output_type": "stream",
          "name": "stdout",
          "text": [
            "          0         1         2         3         4         5         6  \\\n",
            "0  0.074510  0.070588  0.054902  0.066667  0.062745  0.047059  0.070588   \n",
            "1  0.043137  0.066667  0.058824  0.047059  0.070588  0.062745  0.047059   \n",
            "\n",
            "          7         8         9  ...     49144     49145     49146     49147  \\\n",
            "0  0.066667  0.050980  0.125490  ...  0.325490  0.301961  0.368627  0.349020   \n",
            "1  0.070588  0.062745  0.058824  ...  0.011765  0.015686  0.380392  0.043137   \n",
            "\n",
            "      49148     49149     49150     49151  breed             breed_name  \n",
            "0  0.321569  0.380392  0.364706  0.321569      0  n02085936-Maltese_dog  \n",
            "1  0.054902  0.250980  0.023529  0.031373      0  n02085936-Maltese_dog  \n",
            "\n",
            "[2 rows x 49154 columns]\n"
          ]
        }
      ]
    },
    {
      "cell_type": "code",
      "source": [
        "#testing data set\n",
        "\n",
        "print(f\"Image data shape: {image_data.shape}\")\n"
      ],
      "metadata": {
        "colab": {
          "base_uri": "https://localhost:8080/"
        },
        "id": "zwfCZ4MDonnt",
        "outputId": "93cfe449-be50-4ec8-a371-9430a88fd9ee"
      },
      "execution_count": null,
      "outputs": [
        {
          "output_type": "stream",
          "name": "stdout",
          "text": [
            "Image data shape: (541, 49152)\n"
          ]
        }
      ]
    },
    {
      "cell_type": "code",
      "source": [
        "#number of rows of dataframe\n",
        "len(data_df)"
      ],
      "metadata": {
        "colab": {
          "base_uri": "https://localhost:8080/"
        },
        "id": "fg3MhPLoBeb7",
        "outputId": "7222eb57-7895-486f-86f0-69c36e0b1c8e"
      },
      "execution_count": null,
      "outputs": [
        {
          "output_type": "execute_result",
          "data": {
            "text/plain": [
              "541"
            ]
          },
          "metadata": {},
          "execution_count": 34
        }
      ]
    },
    {
      "cell_type": "code",
      "source": [
        "# Save the DataFrame to an HDF5 file\n",
        "data_df.to_hdf('/content/data_df.h5', key='df', mode='w')\n",
        "\n",
        "# Download the HDF5 file\n",
        "from google.colab import files\n",
        "files.download('/content/data_df.h5')\n"
      ],
      "metadata": {
        "colab": {
          "base_uri": "https://localhost:8080/",
          "height": 191
        },
        "id": "D1mp4uz_DpHv",
        "outputId": "2508a63d-e592-4d07-9681-cdae3c60d9de"
      },
      "execution_count": null,
      "outputs": [
        {
          "output_type": "stream",
          "name": "stderr",
          "text": [
            "<ipython-input-36-60c3670a403b>:2: PerformanceWarning: \n",
            "your performance may suffer as PyTables will pickle object types that it cannot\n",
            "map directly to c-types [inferred_type->mixed-integer,key->axis0] [items->None]\n",
            "\n",
            "  data_df.to_hdf('/content/data_df.h5', key='df', mode='w')\n",
            "<ipython-input-36-60c3670a403b>:2: PerformanceWarning: \n",
            "your performance may suffer as PyTables will pickle object types that it cannot\n",
            "map directly to c-types [inferred_type->integer,key->block0_items] [items->None]\n",
            "\n",
            "  data_df.to_hdf('/content/data_df.h5', key='df', mode='w')\n"
          ]
        },
        {
          "output_type": "display_data",
          "data": {
            "text/plain": [
              "<IPython.core.display.Javascript object>"
            ],
            "application/javascript": [
              "\n",
              "    async function download(id, filename, size) {\n",
              "      if (!google.colab.kernel.accessAllowed) {\n",
              "        return;\n",
              "      }\n",
              "      const div = document.createElement('div');\n",
              "      const label = document.createElement('label');\n",
              "      label.textContent = `Downloading \"${filename}\": `;\n",
              "      div.appendChild(label);\n",
              "      const progress = document.createElement('progress');\n",
              "      progress.max = size;\n",
              "      div.appendChild(progress);\n",
              "      document.body.appendChild(div);\n",
              "\n",
              "      const buffers = [];\n",
              "      let downloaded = 0;\n",
              "\n",
              "      const channel = await google.colab.kernel.comms.open(id);\n",
              "      // Send a message to notify the kernel that we're ready.\n",
              "      channel.send({})\n",
              "\n",
              "      for await (const message of channel.messages) {\n",
              "        // Send a message to notify the kernel that we're ready.\n",
              "        channel.send({})\n",
              "        if (message.buffers) {\n",
              "          for (const buffer of message.buffers) {\n",
              "            buffers.push(buffer);\n",
              "            downloaded += buffer.byteLength;\n",
              "            progress.value = downloaded;\n",
              "          }\n",
              "        }\n",
              "      }\n",
              "      const blob = new Blob(buffers, {type: 'application/binary'});\n",
              "      const a = document.createElement('a');\n",
              "      a.href = window.URL.createObjectURL(blob);\n",
              "      a.download = filename;\n",
              "      div.appendChild(a);\n",
              "      a.click();\n",
              "      div.remove();\n",
              "    }\n",
              "  "
            ]
          },
          "metadata": {}
        },
        {
          "output_type": "display_data",
          "data": {
            "text/plain": [
              "<IPython.core.display.Javascript object>"
            ],
            "application/javascript": [
              "download(\"download_cd9bcb0f-cc82-42ec-b17e-b121727cf4b1\", \"data_df.h5\", 216260016)"
            ]
          },
          "metadata": {}
        }
      ]
    }
  ]
}