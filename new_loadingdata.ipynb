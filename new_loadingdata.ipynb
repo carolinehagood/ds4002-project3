{
  "nbformat": 4,
  "nbformat_minor": 0,
  "metadata": {
    "colab": {
      "provenance": [],
      "authorship_tag": "ABX9TyNo1UNh7Sxs6W/Qk0Vd8g2D",
      "include_colab_link": true
    },
    "kernelspec": {
      "name": "python3",
      "display_name": "Python 3"
    },
    "language_info": {
      "name": "python"
    }
  },
  "cells": [
    {
      "cell_type": "markdown",
      "metadata": {
        "id": "view-in-github",
        "colab_type": "text"
      },
      "source": [
        "<a href=\"https://colab.research.google.com/github/carolinehagood/ds4002-project3/blob/main/new_loadingdata.ipynb\" target=\"_parent\"><img src=\"https://colab.research.google.com/assets/colab-badge.svg\" alt=\"Open In Colab\"/></a>"
      ]
    },
    {
      "cell_type": "code",
      "execution_count": 1,
      "metadata": {
        "id": "zN1dP9dusMa5"
      },
      "outputs": [],
      "source": [
        "import os\n",
        "import numpy as np\n",
        "import pandas as pd\n",
        "from tensorflow.keras.preprocessing.image import ImageDataGenerator\n",
        "from tensorflow.keras.models import Sequential\n",
        "from tensorflow.keras.layers import Conv2D, MaxPooling2D, Flatten, Dense, Dropout\n",
        "from tensorflow.keras.optimizers import Adam\n",
        "from sklearn.model_selection import train_test_split\n",
        "from tensorflow.keras.utils import to_categorical\n",
        "from PIL import Image"
      ]
    },
    {
      "cell_type": "code",
      "source": [
        "from google.colab import drive\n",
        "drive.mount(\"/content/drive\", force_remount=True)\n",
        "import zipfile\n",
        "import os"
      ],
      "metadata": {
        "colab": {
          "base_uri": "https://localhost:8080/"
        },
        "id": "sNo2uFdVsQNU",
        "outputId": "cd9aaf49-2a32-48a4-e6aa-646c367d2ace"
      },
      "execution_count": 2,
      "outputs": [
        {
          "output_type": "stream",
          "name": "stdout",
          "text": [
            "Mounted at /content/drive\n"
          ]
        }
      ]
    },
    {
      "cell_type": "code",
      "source": [
        "# Path to the zip file in Google Drive\n",
        "zip_path = '/content/drive/MyDrive/dog-images-new.zip'\n",
        "extract_path = '/content/Dogs'  # Choose a location in Colab to extract the files\n",
        "\n",
        "# Unzip the file\n",
        "try:\n",
        "    with zipfile.ZipFile(zip_path, 'r') as zip_ref:\n",
        "        zip_ref.extractall(extract_path)\n",
        "    print(\"Files unzipped successfully.\")\n",
        "except FileNotFoundError:\n",
        "    print(\"Zip file not found at the specified path.\")\n",
        "except zipfile.BadZipFile:\n",
        "    print(\"The file is not a zip file or is corrupted.\")\n",
        "except Exception as e:\n",
        "    print(f\"An error occurred: {e}\")\n"
      ],
      "metadata": {
        "colab": {
          "base_uri": "https://localhost:8080/"
        },
        "id": "GcwX1U7-sR3m",
        "outputId": "0db5a575-910a-47d0-dd86-90c994eba607"
      },
      "execution_count": 3,
      "outputs": [
        {
          "output_type": "stream",
          "name": "stdout",
          "text": [
            "Files unzipped successfully.\n"
          ]
        }
      ]
    },
    {
      "cell_type": "code",
      "source": [
        "\n",
        "images_dir = '/content/Dogs/dog-images'"
      ],
      "metadata": {
        "id": "zCf0H5gQsTxY"
      },
      "execution_count": 4,
      "outputs": []
    },
    {
      "cell_type": "code",
      "source": [
        "#function to load images and create dataframe\n",
        "import re\n",
        "from sklearn.preprocessing import LabelEncoder\n",
        "\n",
        "def load_images_with_labels(images_dir, img_size=(128, 128)):\n",
        "    image_data = []\n",
        "    breed_labels = []\n",
        "\n",
        "    # Get list of breed folders\n",
        "    breed_names = sorted(os.listdir(images_dir))\n",
        "\n",
        "    for breed in breed_names:\n",
        "        breed_folder_path = os.path.join(images_dir, breed)\n",
        "\n",
        "        # Only proceed if it's a directory\n",
        "        if not os.path.isdir(breed_folder_path):\n",
        "            continue\n",
        "\n",
        "        for image_file in os.listdir(breed_folder_path):\n",
        "            image_path = os.path.join(breed_folder_path, image_file)\n",
        "\n",
        "            # Check if the current file is an image\n",
        "            if os.path.isfile(image_path) and image_file.lower().endswith(('.png', '.jpg', '.jpeg')):\n",
        "                try:\n",
        "                    # Open and resize the image\n",
        "                    img = Image.open(image_path).resize(img_size)\n",
        "                    img = np.array(img)\n",
        "\n",
        "                    # Check if image has three color channels (RGB)\n",
        "                    if img.shape == (img_size[0], img_size[1], 3):\n",
        "                        # Flatten the image (convert 128x128x3 to 1D array)\n",
        "                        image_data.append(img.flatten())\n",
        "                        breed_labels.append(breed)\n",
        "                except Exception as e:\n",
        "                    print(f\"Could not load image {image_path}: {e}\")\n",
        "\n",
        "    # Convert lists to numpy arrays for efficient processing\n",
        "    image_data = np.array(image_data)\n",
        "\n",
        "    # Normalize image data (scaling pixel values between 0 and 1)\n",
        "    image_data = image_data / 255.0\n",
        "\n",
        "    # Apply LabelEncoder to convert breed names to numeric labels\n",
        "    label_encoder = LabelEncoder()\n",
        "    encoded_labels = label_encoder.fit_transform(breed_labels)\n",
        "\n",
        "    # Create a DataFrame for organized data\n",
        "    data_df = pd.DataFrame(image_data)\n",
        "\n",
        "    # Add the encoded labels as a new column\n",
        "    data_df['breed'] = encoded_labels\n",
        "\n",
        "    # Add breed names as a new column (optional)\n",
        "    data_df['breed_name'] = data_df['breed'].apply(lambda x: label_encoder.inverse_transform([x])[0])\n",
        "\n",
        "    return data_df, image_data, encoded_labels, label_encoder\n",
        "\n",
        "\n",
        "# Path to extracted images directory\n",
        "images_dir = '/content/Dogs/dog-images'\n",
        "\n",
        "# Load images and labels\n",
        "data_df, image_data, encoded_labels, label_encoder = load_images_with_labels(images_dir)\n"
      ],
      "metadata": {
        "id": "v5SK7WVvsVur"
      },
      "execution_count": 5,
      "outputs": []
    },
    {
      "cell_type": "code",
      "source": [
        "print(data_df.head(1))"
      ],
      "metadata": {
        "colab": {
          "base_uri": "https://localhost:8080/"
        },
        "id": "vTLrd0fisavz",
        "outputId": "193491db-472a-42cd-f3b9-2a29edca4578"
      },
      "execution_count": 6,
      "outputs": [
        {
          "output_type": "stream",
          "name": "stdout",
          "text": [
            "          0         1         2         3        4         5         6  \\\n",
            "0  0.141176  0.133333  0.082353  0.156863  0.14902  0.098039  0.164706   \n",
            "\n",
            "          7         8         9  ...     49144     49145     49146     49147  \\\n",
            "0  0.156863  0.105882  0.172549  ...  0.223529  0.180392  0.188235  0.172549   \n",
            "\n",
            "     49148     49149     49150     49151  breed             breed_name  \n",
            "0  0.12549  0.164706  0.141176  0.098039      0  n02085936-Maltese_dog  \n",
            "\n",
            "[1 rows x 49154 columns]\n"
          ]
        }
      ]
    },
    {
      "cell_type": "code",
      "source": [
        "#testing data set\n",
        "\n",
        "print(f\"Image data shape: {image_data.shape}\")"
      ],
      "metadata": {
        "colab": {
          "base_uri": "https://localhost:8080/"
        },
        "id": "mEj9vvafsekR",
        "outputId": "702ac7a6-95a1-4813-8c82-3d3487caf027"
      },
      "execution_count": 7,
      "outputs": [
        {
          "output_type": "stream",
          "name": "stdout",
          "text": [
            "Image data shape: (889, 49152)\n"
          ]
        }
      ]
    },
    {
      "cell_type": "code",
      "source": [
        "\n",
        "#number of rows of dataframe\n",
        "len(data_df)"
      ],
      "metadata": {
        "colab": {
          "base_uri": "https://localhost:8080/"
        },
        "id": "uTImV1ersgPj",
        "outputId": "427b62c2-8023-410d-bc43-adaeabea79b4"
      },
      "execution_count": 8,
      "outputs": [
        {
          "output_type": "execute_result",
          "data": {
            "text/plain": [
              "889"
            ]
          },
          "metadata": {},
          "execution_count": 8
        }
      ]
    },
    {
      "cell_type": "code",
      "source": [
        "def split_by_breed_and_save(data_df, breed_column='breed_name'):\n",
        "    # Get unique breeds\n",
        "    unique_breeds = data_df[breed_column].unique()\n",
        "\n",
        "    for breed in unique_breeds:\n",
        "        # Filter the DataFrame by the current breed\n",
        "        breed_df = data_df[data_df[breed_column] == breed]\n",
        "\n",
        "        # Replace spaces or special characters in breed name to avoid filename issues\n",
        "        safe_breed_name = str(breed).replace(\" \", \"_\").replace(\"/\", \"_\")\n",
        "\n",
        "        # Save the filtered DataFrame as a compressed CSV file\n",
        "        breed_df.to_csv(f'{safe_breed_name}.csv.gz', index=False, compression='gzip')\n",
        "        print(f'Saved {safe_breed_name}.csv.gz')\n",
        "\n",
        "# Call the function with your DataFrame\n",
        "split_by_breed_and_save(data_df, breed_column='breed_name')"
      ],
      "metadata": {
        "colab": {
          "base_uri": "https://localhost:8080/"
        },
        "id": "HiGRYD2Isi1P",
        "outputId": "27cb5a73-3531-4205-b60a-c581eb9b35bb"
      },
      "execution_count": 9,
      "outputs": [
        {
          "output_type": "stream",
          "name": "stdout",
          "text": [
            "Saved n02085936-Maltese_dog.csv.gz\n",
            "Saved n02088364-beagle.csv.gz\n",
            "Saved n02099601-golden_retriever.csv.gz\n",
            "Saved n02106662-German_shepherd.csv.gz\n",
            "Saved n02110958-pug.csv.gz\n"
          ]
        }
      ]
    },
    {
      "cell_type": "code",
      "source": [
        "\n",
        "from google.colab import files\n",
        "\n",
        "# List each specific file name and download it\n",
        "file_names = [\n",
        "    \"n02085936-Maltese_dog.csv.gz\",\n",
        "    \"n02088364-beagle.csv.gz\",\n",
        "    \"n02099601-golden_retriever.csv.gz\",\n",
        "    \"n02106662-German_shepherd.csv.gz\",\n",
        "    \"n02110958-pug.csv.gz\"\n",
        "]\n",
        "\n",
        "for file_name in file_names:\n",
        "    files.download(file_name)\n",
        ""
      ],
      "metadata": {
        "colab": {
          "base_uri": "https://localhost:8080/",
          "height": 17
        },
        "id": "qxutf4uksktU",
        "outputId": "b08a0b00-eebf-47e4-bef8-aed211b1678d"
      },
      "execution_count": 10,
      "outputs": [
        {
          "output_type": "display_data",
          "data": {
            "text/plain": [
              "<IPython.core.display.Javascript object>"
            ],
            "application/javascript": [
              "\n",
              "    async function download(id, filename, size) {\n",
              "      if (!google.colab.kernel.accessAllowed) {\n",
              "        return;\n",
              "      }\n",
              "      const div = document.createElement('div');\n",
              "      const label = document.createElement('label');\n",
              "      label.textContent = `Downloading \"${filename}\": `;\n",
              "      div.appendChild(label);\n",
              "      const progress = document.createElement('progress');\n",
              "      progress.max = size;\n",
              "      div.appendChild(progress);\n",
              "      document.body.appendChild(div);\n",
              "\n",
              "      const buffers = [];\n",
              "      let downloaded = 0;\n",
              "\n",
              "      const channel = await google.colab.kernel.comms.open(id);\n",
              "      // Send a message to notify the kernel that we're ready.\n",
              "      channel.send({})\n",
              "\n",
              "      for await (const message of channel.messages) {\n",
              "        // Send a message to notify the kernel that we're ready.\n",
              "        channel.send({})\n",
              "        if (message.buffers) {\n",
              "          for (const buffer of message.buffers) {\n",
              "            buffers.push(buffer);\n",
              "            downloaded += buffer.byteLength;\n",
              "            progress.value = downloaded;\n",
              "          }\n",
              "        }\n",
              "      }\n",
              "      const blob = new Blob(buffers, {type: 'application/binary'});\n",
              "      const a = document.createElement('a');\n",
              "      a.href = window.URL.createObjectURL(blob);\n",
              "      a.download = filename;\n",
              "      div.appendChild(a);\n",
              "      a.click();\n",
              "      div.remove();\n",
              "    }\n",
              "  "
            ]
          },
          "metadata": {}
        },
        {
          "output_type": "display_data",
          "data": {
            "text/plain": [
              "<IPython.core.display.Javascript object>"
            ],
            "application/javascript": [
              "download(\"download_bdee1de6-1b1c-41af-b5b0-f2b907a28f25\", \"n02085936-Maltese_dog.csv.gz\", 16982870)"
            ]
          },
          "metadata": {}
        },
        {
          "output_type": "display_data",
          "data": {
            "text/plain": [
              "<IPython.core.display.Javascript object>"
            ],
            "application/javascript": [
              "\n",
              "    async function download(id, filename, size) {\n",
              "      if (!google.colab.kernel.accessAllowed) {\n",
              "        return;\n",
              "      }\n",
              "      const div = document.createElement('div');\n",
              "      const label = document.createElement('label');\n",
              "      label.textContent = `Downloading \"${filename}\": `;\n",
              "      div.appendChild(label);\n",
              "      const progress = document.createElement('progress');\n",
              "      progress.max = size;\n",
              "      div.appendChild(progress);\n",
              "      document.body.appendChild(div);\n",
              "\n",
              "      const buffers = [];\n",
              "      let downloaded = 0;\n",
              "\n",
              "      const channel = await google.colab.kernel.comms.open(id);\n",
              "      // Send a message to notify the kernel that we're ready.\n",
              "      channel.send({})\n",
              "\n",
              "      for await (const message of channel.messages) {\n",
              "        // Send a message to notify the kernel that we're ready.\n",
              "        channel.send({})\n",
              "        if (message.buffers) {\n",
              "          for (const buffer of message.buffers) {\n",
              "            buffers.push(buffer);\n",
              "            downloaded += buffer.byteLength;\n",
              "            progress.value = downloaded;\n",
              "          }\n",
              "        }\n",
              "      }\n",
              "      const blob = new Blob(buffers, {type: 'application/binary'});\n",
              "      const a = document.createElement('a');\n",
              "      a.href = window.URL.createObjectURL(blob);\n",
              "      a.download = filename;\n",
              "      div.appendChild(a);\n",
              "      a.click();\n",
              "      div.remove();\n",
              "    }\n",
              "  "
            ]
          },
          "metadata": {}
        },
        {
          "output_type": "display_data",
          "data": {
            "text/plain": [
              "<IPython.core.display.Javascript object>"
            ],
            "application/javascript": [
              "download(\"download_4d08390b-6c35-4d5d-9cd8-33ba0878f342\", \"n02088364-beagle.csv.gz\", 12484607)"
            ]
          },
          "metadata": {}
        },
        {
          "output_type": "display_data",
          "data": {
            "text/plain": [
              "<IPython.core.display.Javascript object>"
            ],
            "application/javascript": [
              "\n",
              "    async function download(id, filename, size) {\n",
              "      if (!google.colab.kernel.accessAllowed) {\n",
              "        return;\n",
              "      }\n",
              "      const div = document.createElement('div');\n",
              "      const label = document.createElement('label');\n",
              "      label.textContent = `Downloading \"${filename}\": `;\n",
              "      div.appendChild(label);\n",
              "      const progress = document.createElement('progress');\n",
              "      progress.max = size;\n",
              "      div.appendChild(progress);\n",
              "      document.body.appendChild(div);\n",
              "\n",
              "      const buffers = [];\n",
              "      let downloaded = 0;\n",
              "\n",
              "      const channel = await google.colab.kernel.comms.open(id);\n",
              "      // Send a message to notify the kernel that we're ready.\n",
              "      channel.send({})\n",
              "\n",
              "      for await (const message of channel.messages) {\n",
              "        // Send a message to notify the kernel that we're ready.\n",
              "        channel.send({})\n",
              "        if (message.buffers) {\n",
              "          for (const buffer of message.buffers) {\n",
              "            buffers.push(buffer);\n",
              "            downloaded += buffer.byteLength;\n",
              "            progress.value = downloaded;\n",
              "          }\n",
              "        }\n",
              "      }\n",
              "      const blob = new Blob(buffers, {type: 'application/binary'});\n",
              "      const a = document.createElement('a');\n",
              "      a.href = window.URL.createObjectURL(blob);\n",
              "      a.download = filename;\n",
              "      div.appendChild(a);\n",
              "      a.click();\n",
              "      div.remove();\n",
              "    }\n",
              "  "
            ]
          },
          "metadata": {}
        },
        {
          "output_type": "display_data",
          "data": {
            "text/plain": [
              "<IPython.core.display.Javascript object>"
            ],
            "application/javascript": [
              "download(\"download_6708f76f-843a-4958-9493-ccc7f3e4429f\", \"n02099601-golden_retriever.csv.gz\", 12003631)"
            ]
          },
          "metadata": {}
        },
        {
          "output_type": "display_data",
          "data": {
            "text/plain": [
              "<IPython.core.display.Javascript object>"
            ],
            "application/javascript": [
              "\n",
              "    async function download(id, filename, size) {\n",
              "      if (!google.colab.kernel.accessAllowed) {\n",
              "        return;\n",
              "      }\n",
              "      const div = document.createElement('div');\n",
              "      const label = document.createElement('label');\n",
              "      label.textContent = `Downloading \"${filename}\": `;\n",
              "      div.appendChild(label);\n",
              "      const progress = document.createElement('progress');\n",
              "      progress.max = size;\n",
              "      div.appendChild(progress);\n",
              "      document.body.appendChild(div);\n",
              "\n",
              "      const buffers = [];\n",
              "      let downloaded = 0;\n",
              "\n",
              "      const channel = await google.colab.kernel.comms.open(id);\n",
              "      // Send a message to notify the kernel that we're ready.\n",
              "      channel.send({})\n",
              "\n",
              "      for await (const message of channel.messages) {\n",
              "        // Send a message to notify the kernel that we're ready.\n",
              "        channel.send({})\n",
              "        if (message.buffers) {\n",
              "          for (const buffer of message.buffers) {\n",
              "            buffers.push(buffer);\n",
              "            downloaded += buffer.byteLength;\n",
              "            progress.value = downloaded;\n",
              "          }\n",
              "        }\n",
              "      }\n",
              "      const blob = new Blob(buffers, {type: 'application/binary'});\n",
              "      const a = document.createElement('a');\n",
              "      a.href = window.URL.createObjectURL(blob);\n",
              "      a.download = filename;\n",
              "      div.appendChild(a);\n",
              "      a.click();\n",
              "      div.remove();\n",
              "    }\n",
              "  "
            ]
          },
          "metadata": {}
        },
        {
          "output_type": "display_data",
          "data": {
            "text/plain": [
              "<IPython.core.display.Javascript object>"
            ],
            "application/javascript": [
              "download(\"download_38e4bf05-c26f-4afa-961b-542e507c53a4\", \"n02106662-German_shepherd.csv.gz\", 12174283)"
            ]
          },
          "metadata": {}
        },
        {
          "output_type": "display_data",
          "data": {
            "text/plain": [
              "<IPython.core.display.Javascript object>"
            ],
            "application/javascript": [
              "\n",
              "    async function download(id, filename, size) {\n",
              "      if (!google.colab.kernel.accessAllowed) {\n",
              "        return;\n",
              "      }\n",
              "      const div = document.createElement('div');\n",
              "      const label = document.createElement('label');\n",
              "      label.textContent = `Downloading \"${filename}\": `;\n",
              "      div.appendChild(label);\n",
              "      const progress = document.createElement('progress');\n",
              "      progress.max = size;\n",
              "      div.appendChild(progress);\n",
              "      document.body.appendChild(div);\n",
              "\n",
              "      const buffers = [];\n",
              "      let downloaded = 0;\n",
              "\n",
              "      const channel = await google.colab.kernel.comms.open(id);\n",
              "      // Send a message to notify the kernel that we're ready.\n",
              "      channel.send({})\n",
              "\n",
              "      for await (const message of channel.messages) {\n",
              "        // Send a message to notify the kernel that we're ready.\n",
              "        channel.send({})\n",
              "        if (message.buffers) {\n",
              "          for (const buffer of message.buffers) {\n",
              "            buffers.push(buffer);\n",
              "            downloaded += buffer.byteLength;\n",
              "            progress.value = downloaded;\n",
              "          }\n",
              "        }\n",
              "      }\n",
              "      const blob = new Blob(buffers, {type: 'application/binary'});\n",
              "      const a = document.createElement('a');\n",
              "      a.href = window.URL.createObjectURL(blob);\n",
              "      a.download = filename;\n",
              "      div.appendChild(a);\n",
              "      a.click();\n",
              "      div.remove();\n",
              "    }\n",
              "  "
            ]
          },
          "metadata": {}
        },
        {
          "output_type": "display_data",
          "data": {
            "text/plain": [
              "<IPython.core.display.Javascript object>"
            ],
            "application/javascript": [
              "download(\"download_27df4cbe-8a20-43c6-8a87-041dc3ed6b63\", \"n02110958-pug.csv.gz\", 15365497)"
            ]
          },
          "metadata": {}
        }
      ]
    }
  ]
}