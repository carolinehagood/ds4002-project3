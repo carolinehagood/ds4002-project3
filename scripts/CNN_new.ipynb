{
  "nbformat": 4,
  "nbformat_minor": 0,
  "metadata": {
    "colab": {
      "provenance": [],
      "authorship_tag": "ABX9TyPWoZ5SZ5X+dqVJocxS7XXp",
      "include_colab_link": true
    },
    "kernelspec": {
      "name": "python3",
      "display_name": "Python 3"
    },
    "language_info": {
      "name": "python"
    }
  },
  "cells": [
    {
      "cell_type": "markdown",
      "metadata": {
        "id": "view-in-github",
        "colab_type": "text"
      },
      "source": [
        "<a href=\"https://colab.research.google.com/github/carolinehagood/ds4002-project3/blob/main/CNN_new.ipynb\" target=\"_parent\"><img src=\"https://colab.research.google.com/assets/colab-badge.svg\" alt=\"Open In Colab\"/></a>"
      ]
    },
    {
      "cell_type": "code",
      "execution_count": 103,
      "metadata": {
        "id": "pZRtdDH6HuY4"
      },
      "outputs": [],
      "source": [
        "import pandas as pd\n",
        "import numpy as np\n",
        "from sklearn.model_selection import train_test_split\n",
        "from tensorflow.keras.utils import to_categorical\n",
        "import requests\n",
        "from io import BytesIO\n",
        "import gzip\n",
        "from io import BytesIO\n",
        "import tensorflow as tf\n",
        "from tensorflow.keras.models import Sequential\n",
        "from tensorflow.keras.layers import Conv2D, MaxPooling2D, Flatten, Dense, Dropout\n",
        "from tensorflow.keras.preprocessing.image import ImageDataGenerator\n",
        "from sklearn.metrics import classification_report, confusion_matrix\n",
        "import matplotlib.pyplot as plt"
      ]
    },
    {
      "cell_type": "code",
      "source": [
        "#Downloading url images\n",
        "file_urls = ['https://github.com/carolinehagood/ds4002-project3/raw/refs/heads/main/Data/n02085936-Maltese_dog%20(3).csv.gz',\n",
        "             'https://github.com/carolinehagood/ds4002-project3/raw/refs/heads/main/Data/n02088364-beagle%20(1).csv.gz',\n",
        "             'https://github.com/carolinehagood/ds4002-project3/raw/refs/heads/main/Data/n02099601-golden_retriever%20(1).csv.gz',\n",
        "             'https://github.com/carolinehagood/ds4002-project3/raw/refs/heads/main/Data/n02106662-German_shepherd%20(2).csv.gz'\n",
        "             ]\n",
        "data_frames = []\n",
        "for url in file_urls:\n",
        "    response = requests.get(url)\n",
        "    compressed_file = BytesIO(response.content)  # Create a BytesIO object\n",
        "    with gzip.open(compressed_file, 'rt') as f:  # Open it as a text file\n",
        "        df = pd.read_csv(f)  # Read the CSV file into a DataFrame\n",
        "        data_frames.append(df)"
      ],
      "metadata": {
        "id": "4LxOy6q09fnd"
      },
      "execution_count": 104,
      "outputs": []
    },
    {
      "cell_type": "code",
      "source": [
        "# Combine all DataFrames into a single DataFrame\n",
        "data_df = pd.concat(data_frames, ignore_index=True)\n",
        "\n",
        "# Print the DataFrame to check\n",
        "print(data_df.head(1))"
      ],
      "metadata": {
        "colab": {
          "base_uri": "https://localhost:8080/"
        },
        "id": "Ud-Yr8shH1Dr",
        "outputId": "e44d889b-05c6-4531-8a02-05615e84cf8a"
      },
      "execution_count": 105,
      "outputs": [
        {
          "output_type": "stream",
          "name": "stdout",
          "text": [
            "          0         1         2         3        4         5         6  \\\n",
            "0  0.141176  0.133333  0.082353  0.156863  0.14902  0.098039  0.164706   \n",
            "\n",
            "          7         8         9  ...     49144     49145     49146     49147  \\\n",
            "0  0.156863  0.105882  0.172549  ...  0.223529  0.180392  0.188235  0.172549   \n",
            "\n",
            "     49148     49149     49150     49151  breed             breed_name  \n",
            "0  0.12549  0.164706  0.141176  0.098039      0  n02085936-Maltese_dog  \n",
            "\n",
            "[1 rows x 49154 columns]\n"
          ]
        }
      ]
    },
    {
      "cell_type": "code",
      "source": [
        "data_df"
      ],
      "metadata": {
        "id": "6uEVlOGJCzKK",
        "outputId": "4470fb8f-22e9-409c-f4e5-fdf4c84e4125",
        "colab": {
          "base_uri": "https://localhost:8080/",
          "height": 424
        }
      },
      "execution_count": 106,
      "outputs": [
        {
          "output_type": "execute_result",
          "data": {
            "text/plain": [
              "            0         1         2         3         4         5         6  \\\n",
              "0    0.141176  0.133333  0.082353  0.156863  0.149020  0.098039  0.164706   \n",
              "1    0.470588  0.482353  0.501961  0.380392  0.392157  0.411765  0.337255   \n",
              "2    0.545098  0.529412  0.482353  0.552941  0.537255  0.490196  0.552941   \n",
              "3    0.015686  0.023529  0.019608  0.035294  0.043137  0.039216  0.039216   \n",
              "4    0.215686  0.211765  0.176471  0.235294  0.227451  0.188235  0.196078   \n",
              "..        ...       ...       ...       ...       ...       ...       ...   \n",
              "687  0.278431  0.317647  0.262745  0.349020  0.368627  0.349020  0.254902   \n",
              "688  0.537255  0.627451  0.352941  0.541176  0.631373  0.356863  0.513725   \n",
              "689  0.305882  0.290196  0.313725  0.329412  0.313725  0.352941  0.333333   \n",
              "690  0.584314  0.686275  0.831373  0.576471  0.678431  0.823529  0.564706   \n",
              "691  0.701961  0.874510  0.435294  0.717647  0.890196  0.447059  0.658824   \n",
              "\n",
              "            7         8         9  ...     49144     49145     49146  \\\n",
              "0    0.156863  0.105882  0.172549  ...  0.223529  0.180392  0.188235   \n",
              "1    0.349020  0.368627  0.329412  ...  0.788235  0.733333  0.768627   \n",
              "2    0.537255  0.490196  0.556863  ...  0.141176  0.062745  0.258824   \n",
              "3    0.047059  0.043137  0.035294  ...  0.372549  0.360784  0.403922   \n",
              "4    0.192157  0.145098  0.211765  ...  0.392157  0.321569  0.619608   \n",
              "..        ...       ...       ...  ...       ...       ...       ...   \n",
              "687  0.254902  0.239216  0.270588  ...  0.647059  0.486275  0.670588   \n",
              "688  0.615686  0.337255  0.521569  ...  0.415686  0.168627  0.345098   \n",
              "689  0.317647  0.356863  0.337255  ...  0.247059  0.274510  0.192157   \n",
              "690  0.666667  0.815686  0.560784  ...  0.580392  0.501961  0.549020   \n",
              "691  0.831373  0.384314  0.670588  ...  0.670588  0.133333  0.396078   \n",
              "\n",
              "        49147     49148     49149     49150     49151  breed  \\\n",
              "0    0.172549  0.125490  0.164706  0.141176  0.098039      0   \n",
              "1    0.772549  0.717647  0.764706  0.768627  0.713725      0   \n",
              "2    0.196078  0.117647  0.313725  0.266667  0.196078      0   \n",
              "3    0.407843  0.396078  0.372549  0.368627  0.360784      0   \n",
              "4    0.494118  0.427451  0.694118  0.576471  0.517647      0   \n",
              "..        ...       ...       ...       ...       ...    ...   \n",
              "687  0.580392  0.431373  0.694118  0.619608  0.466667      3   \n",
              "688  0.447059  0.172549  0.341176  0.447059  0.168627      3   \n",
              "689  0.250980  0.282353  0.180392  0.235294  0.286275      3   \n",
              "690  0.600000  0.521569  0.654902  0.705882  0.623529      3   \n",
              "691  0.631373  0.149020  0.298039  0.517647  0.098039      3   \n",
              "\n",
              "                    breed_name  \n",
              "0        n02085936-Maltese_dog  \n",
              "1        n02085936-Maltese_dog  \n",
              "2        n02085936-Maltese_dog  \n",
              "3        n02085936-Maltese_dog  \n",
              "4        n02085936-Maltese_dog  \n",
              "..                         ...  \n",
              "687  n02106662-German_shepherd  \n",
              "688  n02106662-German_shepherd  \n",
              "689  n02106662-German_shepherd  \n",
              "690  n02106662-German_shepherd  \n",
              "691  n02106662-German_shepherd  \n",
              "\n",
              "[692 rows x 49154 columns]"
            ],
            "text/html": [
              "\n",
              "  <div id=\"df-36a80839-cd37-4539-8d9e-0284c5edda84\" class=\"colab-df-container\">\n",
              "    <div>\n",
              "<style scoped>\n",
              "    .dataframe tbody tr th:only-of-type {\n",
              "        vertical-align: middle;\n",
              "    }\n",
              "\n",
              "    .dataframe tbody tr th {\n",
              "        vertical-align: top;\n",
              "    }\n",
              "\n",
              "    .dataframe thead th {\n",
              "        text-align: right;\n",
              "    }\n",
              "</style>\n",
              "<table border=\"1\" class=\"dataframe\">\n",
              "  <thead>\n",
              "    <tr style=\"text-align: right;\">\n",
              "      <th></th>\n",
              "      <th>0</th>\n",
              "      <th>1</th>\n",
              "      <th>2</th>\n",
              "      <th>3</th>\n",
              "      <th>4</th>\n",
              "      <th>5</th>\n",
              "      <th>6</th>\n",
              "      <th>7</th>\n",
              "      <th>8</th>\n",
              "      <th>9</th>\n",
              "      <th>...</th>\n",
              "      <th>49144</th>\n",
              "      <th>49145</th>\n",
              "      <th>49146</th>\n",
              "      <th>49147</th>\n",
              "      <th>49148</th>\n",
              "      <th>49149</th>\n",
              "      <th>49150</th>\n",
              "      <th>49151</th>\n",
              "      <th>breed</th>\n",
              "      <th>breed_name</th>\n",
              "    </tr>\n",
              "  </thead>\n",
              "  <tbody>\n",
              "    <tr>\n",
              "      <th>0</th>\n",
              "      <td>0.141176</td>\n",
              "      <td>0.133333</td>\n",
              "      <td>0.082353</td>\n",
              "      <td>0.156863</td>\n",
              "      <td>0.149020</td>\n",
              "      <td>0.098039</td>\n",
              "      <td>0.164706</td>\n",
              "      <td>0.156863</td>\n",
              "      <td>0.105882</td>\n",
              "      <td>0.172549</td>\n",
              "      <td>...</td>\n",
              "      <td>0.223529</td>\n",
              "      <td>0.180392</td>\n",
              "      <td>0.188235</td>\n",
              "      <td>0.172549</td>\n",
              "      <td>0.125490</td>\n",
              "      <td>0.164706</td>\n",
              "      <td>0.141176</td>\n",
              "      <td>0.098039</td>\n",
              "      <td>0</td>\n",
              "      <td>n02085936-Maltese_dog</td>\n",
              "    </tr>\n",
              "    <tr>\n",
              "      <th>1</th>\n",
              "      <td>0.470588</td>\n",
              "      <td>0.482353</td>\n",
              "      <td>0.501961</td>\n",
              "      <td>0.380392</td>\n",
              "      <td>0.392157</td>\n",
              "      <td>0.411765</td>\n",
              "      <td>0.337255</td>\n",
              "      <td>0.349020</td>\n",
              "      <td>0.368627</td>\n",
              "      <td>0.329412</td>\n",
              "      <td>...</td>\n",
              "      <td>0.788235</td>\n",
              "      <td>0.733333</td>\n",
              "      <td>0.768627</td>\n",
              "      <td>0.772549</td>\n",
              "      <td>0.717647</td>\n",
              "      <td>0.764706</td>\n",
              "      <td>0.768627</td>\n",
              "      <td>0.713725</td>\n",
              "      <td>0</td>\n",
              "      <td>n02085936-Maltese_dog</td>\n",
              "    </tr>\n",
              "    <tr>\n",
              "      <th>2</th>\n",
              "      <td>0.545098</td>\n",
              "      <td>0.529412</td>\n",
              "      <td>0.482353</td>\n",
              "      <td>0.552941</td>\n",
              "      <td>0.537255</td>\n",
              "      <td>0.490196</td>\n",
              "      <td>0.552941</td>\n",
              "      <td>0.537255</td>\n",
              "      <td>0.490196</td>\n",
              "      <td>0.556863</td>\n",
              "      <td>...</td>\n",
              "      <td>0.141176</td>\n",
              "      <td>0.062745</td>\n",
              "      <td>0.258824</td>\n",
              "      <td>0.196078</td>\n",
              "      <td>0.117647</td>\n",
              "      <td>0.313725</td>\n",
              "      <td>0.266667</td>\n",
              "      <td>0.196078</td>\n",
              "      <td>0</td>\n",
              "      <td>n02085936-Maltese_dog</td>\n",
              "    </tr>\n",
              "    <tr>\n",
              "      <th>3</th>\n",
              "      <td>0.015686</td>\n",
              "      <td>0.023529</td>\n",
              "      <td>0.019608</td>\n",
              "      <td>0.035294</td>\n",
              "      <td>0.043137</td>\n",
              "      <td>0.039216</td>\n",
              "      <td>0.039216</td>\n",
              "      <td>0.047059</td>\n",
              "      <td>0.043137</td>\n",
              "      <td>0.035294</td>\n",
              "      <td>...</td>\n",
              "      <td>0.372549</td>\n",
              "      <td>0.360784</td>\n",
              "      <td>0.403922</td>\n",
              "      <td>0.407843</td>\n",
              "      <td>0.396078</td>\n",
              "      <td>0.372549</td>\n",
              "      <td>0.368627</td>\n",
              "      <td>0.360784</td>\n",
              "      <td>0</td>\n",
              "      <td>n02085936-Maltese_dog</td>\n",
              "    </tr>\n",
              "    <tr>\n",
              "      <th>4</th>\n",
              "      <td>0.215686</td>\n",
              "      <td>0.211765</td>\n",
              "      <td>0.176471</td>\n",
              "      <td>0.235294</td>\n",
              "      <td>0.227451</td>\n",
              "      <td>0.188235</td>\n",
              "      <td>0.196078</td>\n",
              "      <td>0.192157</td>\n",
              "      <td>0.145098</td>\n",
              "      <td>0.211765</td>\n",
              "      <td>...</td>\n",
              "      <td>0.392157</td>\n",
              "      <td>0.321569</td>\n",
              "      <td>0.619608</td>\n",
              "      <td>0.494118</td>\n",
              "      <td>0.427451</td>\n",
              "      <td>0.694118</td>\n",
              "      <td>0.576471</td>\n",
              "      <td>0.517647</td>\n",
              "      <td>0</td>\n",
              "      <td>n02085936-Maltese_dog</td>\n",
              "    </tr>\n",
              "    <tr>\n",
              "      <th>...</th>\n",
              "      <td>...</td>\n",
              "      <td>...</td>\n",
              "      <td>...</td>\n",
              "      <td>...</td>\n",
              "      <td>...</td>\n",
              "      <td>...</td>\n",
              "      <td>...</td>\n",
              "      <td>...</td>\n",
              "      <td>...</td>\n",
              "      <td>...</td>\n",
              "      <td>...</td>\n",
              "      <td>...</td>\n",
              "      <td>...</td>\n",
              "      <td>...</td>\n",
              "      <td>...</td>\n",
              "      <td>...</td>\n",
              "      <td>...</td>\n",
              "      <td>...</td>\n",
              "      <td>...</td>\n",
              "      <td>...</td>\n",
              "      <td>...</td>\n",
              "    </tr>\n",
              "    <tr>\n",
              "      <th>687</th>\n",
              "      <td>0.278431</td>\n",
              "      <td>0.317647</td>\n",
              "      <td>0.262745</td>\n",
              "      <td>0.349020</td>\n",
              "      <td>0.368627</td>\n",
              "      <td>0.349020</td>\n",
              "      <td>0.254902</td>\n",
              "      <td>0.254902</td>\n",
              "      <td>0.239216</td>\n",
              "      <td>0.270588</td>\n",
              "      <td>...</td>\n",
              "      <td>0.647059</td>\n",
              "      <td>0.486275</td>\n",
              "      <td>0.670588</td>\n",
              "      <td>0.580392</td>\n",
              "      <td>0.431373</td>\n",
              "      <td>0.694118</td>\n",
              "      <td>0.619608</td>\n",
              "      <td>0.466667</td>\n",
              "      <td>3</td>\n",
              "      <td>n02106662-German_shepherd</td>\n",
              "    </tr>\n",
              "    <tr>\n",
              "      <th>688</th>\n",
              "      <td>0.537255</td>\n",
              "      <td>0.627451</td>\n",
              "      <td>0.352941</td>\n",
              "      <td>0.541176</td>\n",
              "      <td>0.631373</td>\n",
              "      <td>0.356863</td>\n",
              "      <td>0.513725</td>\n",
              "      <td>0.615686</td>\n",
              "      <td>0.337255</td>\n",
              "      <td>0.521569</td>\n",
              "      <td>...</td>\n",
              "      <td>0.415686</td>\n",
              "      <td>0.168627</td>\n",
              "      <td>0.345098</td>\n",
              "      <td>0.447059</td>\n",
              "      <td>0.172549</td>\n",
              "      <td>0.341176</td>\n",
              "      <td>0.447059</td>\n",
              "      <td>0.168627</td>\n",
              "      <td>3</td>\n",
              "      <td>n02106662-German_shepherd</td>\n",
              "    </tr>\n",
              "    <tr>\n",
              "      <th>689</th>\n",
              "      <td>0.305882</td>\n",
              "      <td>0.290196</td>\n",
              "      <td>0.313725</td>\n",
              "      <td>0.329412</td>\n",
              "      <td>0.313725</td>\n",
              "      <td>0.352941</td>\n",
              "      <td>0.333333</td>\n",
              "      <td>0.317647</td>\n",
              "      <td>0.356863</td>\n",
              "      <td>0.337255</td>\n",
              "      <td>...</td>\n",
              "      <td>0.247059</td>\n",
              "      <td>0.274510</td>\n",
              "      <td>0.192157</td>\n",
              "      <td>0.250980</td>\n",
              "      <td>0.282353</td>\n",
              "      <td>0.180392</td>\n",
              "      <td>0.235294</td>\n",
              "      <td>0.286275</td>\n",
              "      <td>3</td>\n",
              "      <td>n02106662-German_shepherd</td>\n",
              "    </tr>\n",
              "    <tr>\n",
              "      <th>690</th>\n",
              "      <td>0.584314</td>\n",
              "      <td>0.686275</td>\n",
              "      <td>0.831373</td>\n",
              "      <td>0.576471</td>\n",
              "      <td>0.678431</td>\n",
              "      <td>0.823529</td>\n",
              "      <td>0.564706</td>\n",
              "      <td>0.666667</td>\n",
              "      <td>0.815686</td>\n",
              "      <td>0.560784</td>\n",
              "      <td>...</td>\n",
              "      <td>0.580392</td>\n",
              "      <td>0.501961</td>\n",
              "      <td>0.549020</td>\n",
              "      <td>0.600000</td>\n",
              "      <td>0.521569</td>\n",
              "      <td>0.654902</td>\n",
              "      <td>0.705882</td>\n",
              "      <td>0.623529</td>\n",
              "      <td>3</td>\n",
              "      <td>n02106662-German_shepherd</td>\n",
              "    </tr>\n",
              "    <tr>\n",
              "      <th>691</th>\n",
              "      <td>0.701961</td>\n",
              "      <td>0.874510</td>\n",
              "      <td>0.435294</td>\n",
              "      <td>0.717647</td>\n",
              "      <td>0.890196</td>\n",
              "      <td>0.447059</td>\n",
              "      <td>0.658824</td>\n",
              "      <td>0.831373</td>\n",
              "      <td>0.384314</td>\n",
              "      <td>0.670588</td>\n",
              "      <td>...</td>\n",
              "      <td>0.670588</td>\n",
              "      <td>0.133333</td>\n",
              "      <td>0.396078</td>\n",
              "      <td>0.631373</td>\n",
              "      <td>0.149020</td>\n",
              "      <td>0.298039</td>\n",
              "      <td>0.517647</td>\n",
              "      <td>0.098039</td>\n",
              "      <td>3</td>\n",
              "      <td>n02106662-German_shepherd</td>\n",
              "    </tr>\n",
              "  </tbody>\n",
              "</table>\n",
              "<p>692 rows × 49154 columns</p>\n",
              "</div>\n",
              "    <div class=\"colab-df-buttons\">\n",
              "\n",
              "  <div class=\"colab-df-container\">\n",
              "    <button class=\"colab-df-convert\" onclick=\"convertToInteractive('df-36a80839-cd37-4539-8d9e-0284c5edda84')\"\n",
              "            title=\"Convert this dataframe to an interactive table.\"\n",
              "            style=\"display:none;\">\n",
              "\n",
              "  <svg xmlns=\"http://www.w3.org/2000/svg\" height=\"24px\" viewBox=\"0 -960 960 960\">\n",
              "    <path d=\"M120-120v-720h720v720H120Zm60-500h600v-160H180v160Zm220 220h160v-160H400v160Zm0 220h160v-160H400v160ZM180-400h160v-160H180v160Zm440 0h160v-160H620v160ZM180-180h160v-160H180v160Zm440 0h160v-160H620v160Z\"/>\n",
              "  </svg>\n",
              "    </button>\n",
              "\n",
              "  <style>\n",
              "    .colab-df-container {\n",
              "      display:flex;\n",
              "      gap: 12px;\n",
              "    }\n",
              "\n",
              "    .colab-df-convert {\n",
              "      background-color: #E8F0FE;\n",
              "      border: none;\n",
              "      border-radius: 50%;\n",
              "      cursor: pointer;\n",
              "      display: none;\n",
              "      fill: #1967D2;\n",
              "      height: 32px;\n",
              "      padding: 0 0 0 0;\n",
              "      width: 32px;\n",
              "    }\n",
              "\n",
              "    .colab-df-convert:hover {\n",
              "      background-color: #E2EBFA;\n",
              "      box-shadow: 0px 1px 2px rgba(60, 64, 67, 0.3), 0px 1px 3px 1px rgba(60, 64, 67, 0.15);\n",
              "      fill: #174EA6;\n",
              "    }\n",
              "\n",
              "    .colab-df-buttons div {\n",
              "      margin-bottom: 4px;\n",
              "    }\n",
              "\n",
              "    [theme=dark] .colab-df-convert {\n",
              "      background-color: #3B4455;\n",
              "      fill: #D2E3FC;\n",
              "    }\n",
              "\n",
              "    [theme=dark] .colab-df-convert:hover {\n",
              "      background-color: #434B5C;\n",
              "      box-shadow: 0px 1px 3px 1px rgba(0, 0, 0, 0.15);\n",
              "      filter: drop-shadow(0px 1px 2px rgba(0, 0, 0, 0.3));\n",
              "      fill: #FFFFFF;\n",
              "    }\n",
              "  </style>\n",
              "\n",
              "    <script>\n",
              "      const buttonEl =\n",
              "        document.querySelector('#df-36a80839-cd37-4539-8d9e-0284c5edda84 button.colab-df-convert');\n",
              "      buttonEl.style.display =\n",
              "        google.colab.kernel.accessAllowed ? 'block' : 'none';\n",
              "\n",
              "      async function convertToInteractive(key) {\n",
              "        const element = document.querySelector('#df-36a80839-cd37-4539-8d9e-0284c5edda84');\n",
              "        const dataTable =\n",
              "          await google.colab.kernel.invokeFunction('convertToInteractive',\n",
              "                                                    [key], {});\n",
              "        if (!dataTable) return;\n",
              "\n",
              "        const docLinkHtml = 'Like what you see? Visit the ' +\n",
              "          '<a target=\"_blank\" href=https://colab.research.google.com/notebooks/data_table.ipynb>data table notebook</a>'\n",
              "          + ' to learn more about interactive tables.';\n",
              "        element.innerHTML = '';\n",
              "        dataTable['output_type'] = 'display_data';\n",
              "        await google.colab.output.renderOutput(dataTable, element);\n",
              "        const docLink = document.createElement('div');\n",
              "        docLink.innerHTML = docLinkHtml;\n",
              "        element.appendChild(docLink);\n",
              "      }\n",
              "    </script>\n",
              "  </div>\n",
              "\n",
              "\n",
              "<div id=\"df-4a2179da-de9d-41f2-9988-4329f745e03e\">\n",
              "  <button class=\"colab-df-quickchart\" onclick=\"quickchart('df-4a2179da-de9d-41f2-9988-4329f745e03e')\"\n",
              "            title=\"Suggest charts\"\n",
              "            style=\"display:none;\">\n",
              "\n",
              "<svg xmlns=\"http://www.w3.org/2000/svg\" height=\"24px\"viewBox=\"0 0 24 24\"\n",
              "     width=\"24px\">\n",
              "    <g>\n",
              "        <path d=\"M19 3H5c-1.1 0-2 .9-2 2v14c0 1.1.9 2 2 2h14c1.1 0 2-.9 2-2V5c0-1.1-.9-2-2-2zM9 17H7v-7h2v7zm4 0h-2V7h2v10zm4 0h-2v-4h2v4z\"/>\n",
              "    </g>\n",
              "</svg>\n",
              "  </button>\n",
              "\n",
              "<style>\n",
              "  .colab-df-quickchart {\n",
              "      --bg-color: #E8F0FE;\n",
              "      --fill-color: #1967D2;\n",
              "      --hover-bg-color: #E2EBFA;\n",
              "      --hover-fill-color: #174EA6;\n",
              "      --disabled-fill-color: #AAA;\n",
              "      --disabled-bg-color: #DDD;\n",
              "  }\n",
              "\n",
              "  [theme=dark] .colab-df-quickchart {\n",
              "      --bg-color: #3B4455;\n",
              "      --fill-color: #D2E3FC;\n",
              "      --hover-bg-color: #434B5C;\n",
              "      --hover-fill-color: #FFFFFF;\n",
              "      --disabled-bg-color: #3B4455;\n",
              "      --disabled-fill-color: #666;\n",
              "  }\n",
              "\n",
              "  .colab-df-quickchart {\n",
              "    background-color: var(--bg-color);\n",
              "    border: none;\n",
              "    border-radius: 50%;\n",
              "    cursor: pointer;\n",
              "    display: none;\n",
              "    fill: var(--fill-color);\n",
              "    height: 32px;\n",
              "    padding: 0;\n",
              "    width: 32px;\n",
              "  }\n",
              "\n",
              "  .colab-df-quickchart:hover {\n",
              "    background-color: var(--hover-bg-color);\n",
              "    box-shadow: 0 1px 2px rgba(60, 64, 67, 0.3), 0 1px 3px 1px rgba(60, 64, 67, 0.15);\n",
              "    fill: var(--button-hover-fill-color);\n",
              "  }\n",
              "\n",
              "  .colab-df-quickchart-complete:disabled,\n",
              "  .colab-df-quickchart-complete:disabled:hover {\n",
              "    background-color: var(--disabled-bg-color);\n",
              "    fill: var(--disabled-fill-color);\n",
              "    box-shadow: none;\n",
              "  }\n",
              "\n",
              "  .colab-df-spinner {\n",
              "    border: 2px solid var(--fill-color);\n",
              "    border-color: transparent;\n",
              "    border-bottom-color: var(--fill-color);\n",
              "    animation:\n",
              "      spin 1s steps(1) infinite;\n",
              "  }\n",
              "\n",
              "  @keyframes spin {\n",
              "    0% {\n",
              "      border-color: transparent;\n",
              "      border-bottom-color: var(--fill-color);\n",
              "      border-left-color: var(--fill-color);\n",
              "    }\n",
              "    20% {\n",
              "      border-color: transparent;\n",
              "      border-left-color: var(--fill-color);\n",
              "      border-top-color: var(--fill-color);\n",
              "    }\n",
              "    30% {\n",
              "      border-color: transparent;\n",
              "      border-left-color: var(--fill-color);\n",
              "      border-top-color: var(--fill-color);\n",
              "      border-right-color: var(--fill-color);\n",
              "    }\n",
              "    40% {\n",
              "      border-color: transparent;\n",
              "      border-right-color: var(--fill-color);\n",
              "      border-top-color: var(--fill-color);\n",
              "    }\n",
              "    60% {\n",
              "      border-color: transparent;\n",
              "      border-right-color: var(--fill-color);\n",
              "    }\n",
              "    80% {\n",
              "      border-color: transparent;\n",
              "      border-right-color: var(--fill-color);\n",
              "      border-bottom-color: var(--fill-color);\n",
              "    }\n",
              "    90% {\n",
              "      border-color: transparent;\n",
              "      border-bottom-color: var(--fill-color);\n",
              "    }\n",
              "  }\n",
              "</style>\n",
              "\n",
              "  <script>\n",
              "    async function quickchart(key) {\n",
              "      const quickchartButtonEl =\n",
              "        document.querySelector('#' + key + ' button');\n",
              "      quickchartButtonEl.disabled = true;  // To prevent multiple clicks.\n",
              "      quickchartButtonEl.classList.add('colab-df-spinner');\n",
              "      try {\n",
              "        const charts = await google.colab.kernel.invokeFunction(\n",
              "            'suggestCharts', [key], {});\n",
              "      } catch (error) {\n",
              "        console.error('Error during call to suggestCharts:', error);\n",
              "      }\n",
              "      quickchartButtonEl.classList.remove('colab-df-spinner');\n",
              "      quickchartButtonEl.classList.add('colab-df-quickchart-complete');\n",
              "    }\n",
              "    (() => {\n",
              "      let quickchartButtonEl =\n",
              "        document.querySelector('#df-4a2179da-de9d-41f2-9988-4329f745e03e button');\n",
              "      quickchartButtonEl.style.display =\n",
              "        google.colab.kernel.accessAllowed ? 'block' : 'none';\n",
              "    })();\n",
              "  </script>\n",
              "</div>\n",
              "\n",
              "  <div id=\"id_64a370bc-02f4-466c-9454-43495966d66f\">\n",
              "    <style>\n",
              "      .colab-df-generate {\n",
              "        background-color: #E8F0FE;\n",
              "        border: none;\n",
              "        border-radius: 50%;\n",
              "        cursor: pointer;\n",
              "        display: none;\n",
              "        fill: #1967D2;\n",
              "        height: 32px;\n",
              "        padding: 0 0 0 0;\n",
              "        width: 32px;\n",
              "      }\n",
              "\n",
              "      .colab-df-generate:hover {\n",
              "        background-color: #E2EBFA;\n",
              "        box-shadow: 0px 1px 2px rgba(60, 64, 67, 0.3), 0px 1px 3px 1px rgba(60, 64, 67, 0.15);\n",
              "        fill: #174EA6;\n",
              "      }\n",
              "\n",
              "      [theme=dark] .colab-df-generate {\n",
              "        background-color: #3B4455;\n",
              "        fill: #D2E3FC;\n",
              "      }\n",
              "\n",
              "      [theme=dark] .colab-df-generate:hover {\n",
              "        background-color: #434B5C;\n",
              "        box-shadow: 0px 1px 3px 1px rgba(0, 0, 0, 0.15);\n",
              "        filter: drop-shadow(0px 1px 2px rgba(0, 0, 0, 0.3));\n",
              "        fill: #FFFFFF;\n",
              "      }\n",
              "    </style>\n",
              "    <button class=\"colab-df-generate\" onclick=\"generateWithVariable('data_df')\"\n",
              "            title=\"Generate code using this dataframe.\"\n",
              "            style=\"display:none;\">\n",
              "\n",
              "  <svg xmlns=\"http://www.w3.org/2000/svg\" height=\"24px\"viewBox=\"0 0 24 24\"\n",
              "       width=\"24px\">\n",
              "    <path d=\"M7,19H8.4L18.45,9,17,7.55,7,17.6ZM5,21V16.75L18.45,3.32a2,2,0,0,1,2.83,0l1.4,1.43a1.91,1.91,0,0,1,.58,1.4,1.91,1.91,0,0,1-.58,1.4L9.25,21ZM18.45,9,17,7.55Zm-12,3A5.31,5.31,0,0,0,4.9,8.1,5.31,5.31,0,0,0,1,6.5,5.31,5.31,0,0,0,4.9,4.9,5.31,5.31,0,0,0,6.5,1,5.31,5.31,0,0,0,8.1,4.9,5.31,5.31,0,0,0,12,6.5,5.46,5.46,0,0,0,6.5,12Z\"/>\n",
              "  </svg>\n",
              "    </button>\n",
              "    <script>\n",
              "      (() => {\n",
              "      const buttonEl =\n",
              "        document.querySelector('#id_64a370bc-02f4-466c-9454-43495966d66f button.colab-df-generate');\n",
              "      buttonEl.style.display =\n",
              "        google.colab.kernel.accessAllowed ? 'block' : 'none';\n",
              "\n",
              "      buttonEl.onclick = () => {\n",
              "        google.colab.notebook.generateWithVariable('data_df');\n",
              "      }\n",
              "      })();\n",
              "    </script>\n",
              "  </div>\n",
              "\n",
              "    </div>\n",
              "  </div>\n"
            ],
            "application/vnd.google.colaboratory.intrinsic+json": {
              "type": "dataframe",
              "variable_name": "data_df"
            }
          },
          "metadata": {},
          "execution_count": 106
        }
      ]
    },
    {
      "cell_type": "code",
      "source": [
        "if data_df['breed_name'].value_counts()['n02085936-Maltese_dog'] > 100:\n",
        "    data_df = data_df.drop(\n",
        "        data_df[data_df['breed_name'] == 'n02085936-Maltese_dog'].iloc[100:].index\n",
        "    )"
      ],
      "metadata": {
        "id": "G-v0ob4zH6ri"
      },
      "execution_count": 107,
      "outputs": []
    },
    {
      "cell_type": "code",
      "source": [
        "data_df['breed_name'] = data_df['breed_name'].str.split('-').str[1]"
      ],
      "metadata": {
        "id": "jd3OYx_KH7c9"
      },
      "execution_count": 108,
      "outputs": []
    },
    {
      "cell_type": "code",
      "source": [
        "#class distribution\n",
        "import matplotlib.pyplot as plt\n",
        "\n",
        "# Count the number of samples per breed\n",
        "class_counts = data_df['breed_name'].value_counts()\n",
        "\n",
        "# Plot bar chart\n",
        "plt.figure(figsize=(8, 5))\n",
        "class_counts.plot(kind='bar', color='green', alpha=0.7)\n",
        "plt.title(\"Class Distribution\")\n",
        "plt.xlabel(\"Dog Breed\")\n",
        "plt.ylabel(\"Number of Images\")\n",
        "plt.xticks(rotation=45)\n",
        "plt.show()"
      ],
      "metadata": {
        "colab": {
          "base_uri": "https://localhost:8080/",
          "height": 573
        },
        "id": "UHHpewjOH9zT",
        "outputId": "8925d3f5-5a0c-4a12-f326-c016029114cc"
      },
      "execution_count": 109,
      "outputs": [
        {
          "output_type": "display_data",
          "data": {
            "text/plain": [
              "<Figure size 800x500 with 1 Axes>"
            ],
            "image/png": "[encoded data removed]"
          },
          "metadata": {}
        }
      ]
    },
    {
      "cell_type": "code",
      "source": [
        "#sample image visualization\n",
        "\n",
        "# Define the correct dimensions for the image\n",
        "image_dim = (128, 128, 3)  # If the actual size is 128x128\n",
        "image_data = data_df.iloc[0, :-2].values.astype('float32').reshape(image_dim)\n",
        "\n",
        "# Plot the image\n",
        "plt.figure(figsize=(6, 6))\n",
        "plt.imshow(image_data)\n",
        "plt.title(data_df['breed_name'].iloc[0])  # Display the breed name as the title\n",
        "plt.axis(\"off\")\n",
        "plt.suptitle(\"Single Image from Dataset\", fontsize=16)\n",
        "plt.show()"
      ],
      "metadata": {
        "colab": {
          "base_uri": "https://localhost:8080/",
          "height": 559
        },
        "id": "be-5ZqurIBj5",
        "outputId": "2b3a1151-613e-406d-f66e-30c03b16c666"
      },
      "execution_count": 110,
      "outputs": [
        {
          "output_type": "display_data",
          "data": {
            "text/plain": [
              "<Figure size 600x600 with 1 Axes>"
            ],
            "image/png": "[encoded data removed]"
          },
          "metadata": {}
        }
      ]
    },
    {
      "cell_type": "code",
      "source": [
        "#Image Mean and Standard Deviation per Breed\n",
        "\n",
        "breed_counts = data_df['breed'].value_counts()\n",
        "import numpy as np\n",
        "import seaborn as sns\n",
        "import matplotlib.pyplot as plt\n",
        "\n",
        "# Function to calculate mean and std dev per breed\n",
        "def get_mean_std_for_breed(breed_data):\n",
        "    flattened_data = breed_data.values.reshape(len(breed_data), -1)  # Flatten each image\n",
        "    mean = np.mean(flattened_data, axis=1)  # Mean of pixel values for each image\n",
        "    std = np.std(flattened_data, axis=1)  # Standard deviation of pixel values for each image\n",
        "    return np.mean(mean), np.mean(std)  # Return the average mean and std for the breed\n"
      ],
      "metadata": {
        "id": "hBA3t-nzIN9s"
      },
      "execution_count": 111,
      "outputs": []
    },
    {
      "cell_type": "code",
      "source": [
        "# Ensure that we handle varying image counts correctly\n",
        "breed_stats = data_df.groupby('breed').apply(lambda x: get_mean_std_for_breed(x.iloc[:, :-2]))\n",
        "\n",
        "# Unpack the results into separate mean and std arrays\n",
        "mean_values = breed_stats.apply(lambda x: x[0])\n",
        "std_values = breed_stats.apply(lambda x: x[1])\n",
        "\n",
        "# Plotting\n",
        "plt.figure(figsize=(10, 6))\n",
        "breeds = breed_stats.index\n",
        "bar_width = 0.35\n",
        "x = np.arange(len(breeds))\n",
        "\n",
        "\n",
        "# Bar chart with mean and std dev values\n",
        "plt.bar(x - bar_width / 2, mean_values, bar_width, label='Mean Pixel Value')\n",
        "plt.bar(x + bar_width / 2, std_values, bar_width, label='Std Dev Pixel Value')\n",
        "\n",
        "plt.xlabel('Breed')\n",
        "plt.ylabel('Pixel Value')\n",
        "plt.title('Mean and Std Dev of Pixel Values per Breed')\n",
        "plt.xticks(x, breeds, rotation=45)\n",
        "plt.legend()\n",
        "plt.tight_layout()\n",
        "plt.show()"
      ],
      "metadata": {
        "colab": {
          "base_uri": "https://localhost:8080/",
          "height": 662
        },
        "id": "mNtsedP5IfJn",
        "outputId": "3a9d3ef2-ebd7-4f68-d2af-dc79eaa6a1e6"
      },
      "execution_count": 112,
      "outputs": [
        {
          "output_type": "stream",
          "name": "stderr",
          "text": [
            "<ipython-input-112-37ac2d8b8981>:2: DeprecationWarning: DataFrameGroupBy.apply operated on the grouping columns. This behavior is deprecated, and in a future version of pandas the grouping columns will be excluded from the operation. Either pass `include_groups=False` to exclude the groupings or explicitly select the grouping columns after groupby to silence this warning.\n",
            "  breed_stats = data_df.groupby('breed').apply(lambda x: get_mean_std_for_breed(x.iloc[:, :-2]))\n"
          ]
        },
        {
          "output_type": "display_data",
          "data": {
            "text/plain": [
              "<Figure size 1000x600 with 1 Axes>"
            ],
            "image/png": "[encoded data removed]"
          },
          "metadata": {}
        }
      ]
    },
    {
      "cell_type": "code",
      "source": [
        "print(data_df['breed'].unique())  # Check unique values\n",
        "print(data_df['breed'].isna().sum())  # Check for NaN values"
      ],
      "metadata": {
        "colab": {
          "base_uri": "https://localhost:8080/"
        },
        "id": "P-3yYK3ZIqpA",
        "outputId": "bb7793c0-d8a0-4214-8b79-2c913c877acf"
      },
      "execution_count": 113,
      "outputs": [
        {
          "output_type": "stream",
          "name": "stdout",
          "text": [
            "[0 1 2 3]\n",
            "0\n"
          ]
        }
      ]
    },
    {
      "cell_type": "code",
      "source": [
        "# Ensure breed is an integer column (convert if needed)\n",
        "data_df['breed'] = data_df['breed'].astype(int)"
      ],
      "metadata": {
        "id": "ngZmXJc2IuWj"
      },
      "execution_count": 114,
      "outputs": []
    },
    {
      "cell_type": "code",
      "source": [
        "X = data_df.iloc[:, :-2].values  # All columns except the last two\n",
        "print(X.shape)"
      ],
      "metadata": {
        "colab": {
          "base_uri": "https://localhost:8080/"
        },
        "id": "AEPLbC4AIxeN",
        "outputId": "307da63e-aead-4e0c-a04c-c99b5fda211e"
      },
      "execution_count": 115,
      "outputs": [
        {
          "output_type": "stream",
          "name": "stdout",
          "text": [
            "(558, 49152)\n"
          ]
        }
      ]
    },
    {
      "cell_type": "code",
      "source": [
        "y = data_df['breed'].values  # Labels are from the 'breed' column\n",
        "print(y.shape)"
      ],
      "metadata": {
        "colab": {
          "base_uri": "https://localhost:8080/"
        },
        "id": "OrpByQXaI1D5",
        "outputId": "24d4196a-98bd-42b8-d700-d5b8d39a6258"
      },
      "execution_count": 116,
      "outputs": [
        {
          "output_type": "stream",
          "name": "stdout",
          "text": [
            "(558,)\n"
          ]
        }
      ]
    },
    {
      "cell_type": "code",
      "source": [
        "# Set constants\n",
        "\n",
        "IMAGE_HEIGHT, IMAGE_WIDTH, CHANNELS = 128, 128, 3\n",
        "BATCH_SIZE = 32\n",
        "EPOCHS = 20\n",
        "NUM_CLASSES = 4  #number of dog breeds"
      ],
      "metadata": {
        "id": "yUoFEISSI5JX"
      },
      "execution_count": 117,
      "outputs": []
    },
    {
      "cell_type": "code",
      "source": [
        "from sklearn.preprocessing import LabelEncoder\n",
        "\n",
        "# # Normalize X\n",
        "# X = X / 255.0  # Scale pixel values to [0, 1]\n",
        "\n",
        "# # Reshape X to (height, width, channels) for 128x128 images\n",
        "# X = X.reshape(-1, 128, 128, 3)  # 128x128 images with 3 color channels (RGB)\n",
        "\n",
        "\n",
        "# # Encode labels (y) into integers and then one-hot encode\n",
        "# label_encoder = LabelEncoder()\n",
        "# y_encoded = label_encoder.fit_transform(y)\n",
        "# y_onehot = to_categorical(y_encoded)\n",
        "\n",
        "# # Split into train and test sets\n",
        "# X_train, X_test, y_train, y_test = train_test_split(X, y_onehot, test_size=0.2, random_state=42)\n",
        "\n",
        "# # Data augmentation\n",
        "# data_augmentation = ImageDataGenerator(\n",
        "#     rotation_range=30,\n",
        "#     width_shift_range=0.2,\n",
        "#     height_shift_range=0.2,\n",
        "#     horizontal_flip=True,\n",
        "#     zoom_range=0.2,\n",
        "#     shear_range=0.2,\n",
        "#     fill_mode='nearest'\n",
        "# )"
      ],
      "metadata": {
        "id": "-sVJycI5I85h"
      },
      "execution_count": 118,
      "outputs": []
    },
    {
      "cell_type": "code",
      "source": [
        "from tensorflow.keras.preprocessing.image import img_to_array, load_img\n",
        "from sklearn.preprocessing import LabelEncoder\n",
        "\n",
        "# Reshape X to (height, width, channels) for 128x128 images\n",
        "X = X.reshape(-1, 128, 128, 3)\n",
        "\n",
        "# Normalize X\n",
        "X = X / 255.0\n",
        "\n",
        "# Encode labels (y) into integers and then one-hot encode\n",
        "label_encoder = LabelEncoder()\n",
        "y_encoded = label_encoder.fit_transform(y)\n",
        "y_onehot = to_categorical(y_encoded)\n",
        "\n",
        "# Split dataset into training and test sets\n",
        "X_train, X_test, y_train, y_test = train_test_split(X, y_onehot, test_size=0.2, stratify=y, random_state=42)\n",
        "\n",
        "# Further split the training set into training and validation sets\n",
        "X_train, X_val, y_train, y_val = train_test_split(X_train, y_train, test_size=0.2, random_state=42)\n",
        "\n",
        "# Data augmentation\n",
        "augmented_data = data_augmentation.flow(X_train, y_train, batch_size=32)"
      ],
      "metadata": {
        "id": "J15HjuWSA6Yq"
      },
      "execution_count": 119,
      "outputs": []
    },
    {
      "cell_type": "markdown",
      "source": [
        "# TEST"
      ],
      "metadata": {
        "id": "lzxWN_vn3KIv"
      }
    },
    {
      "cell_type": "code",
      "source": [
        "import numpy as np\n",
        "import matplotlib.pyplot as plt\n",
        "from tensorflow import keras"
      ],
      "metadata": {
        "id": "9lGJ7HA42tvA"
      },
      "execution_count": 126,
      "outputs": []
    },
    {
      "cell_type": "code",
      "source": [
        "model = keras.Sequential()"
      ],
      "metadata": {
        "id": "gK81xuwn2779"
      },
      "execution_count": 127,
      "outputs": []
    },
    {
      "cell_type": "code",
      "source": [
        "model.add(keras.layers.Conv2D(16, kernel_size=3, activation='relu', input_shape=(IMAGE_HEIGHT, IMAGE_WIDTH, CHANNELS)))\n",
        "model.add(keras.layers.AveragePooling2D(2, 2))\n"
      ],
      "metadata": {
        "id": "6XbQ2ZJR3NYM"
      },
      "execution_count": 128,
      "outputs": []
    },
    {
      "cell_type": "code",
      "source": [
        "model.add(keras.layers.Conv2D(32, kernel_size=3, activation='relu'))\n"
      ],
      "metadata": {
        "id": "y1R1OFSQ3g0V"
      },
      "execution_count": 129,
      "outputs": []
    },
    {
      "cell_type": "code",
      "source": [
        "model.add(keras.layers.AveragePooling2D(2, 2))\n",
        "# Add one more convolutional layer with 64 filters and ReLU activation\n",
        "model.add(keras.layers.Conv2D(64, kernel_size=3, activation='relu'))"
      ],
      "metadata": {
        "id": "n656sXD-3qb-"
      },
      "execution_count": 130,
      "outputs": []
    },
    {
      "cell_type": "code",
      "source": [
        "DROPOUT_FACTOR = 0.2"
      ],
      "metadata": {
        "id": "zBqoD7e75H5r"
      },
      "execution_count": 131,
      "outputs": []
    },
    {
      "cell_type": "code",
      "source": [
        "model.add(keras.layers.Dropout(DROPOUT_FACTOR))\n",
        "model.add(keras.layers.AveragePooling2D(2, 2))"
      ],
      "metadata": {
        "id": "rhdOWOHe3u1X"
      },
      "execution_count": 132,
      "outputs": []
    },
    {
      "cell_type": "code",
      "source": [
        "# Flatten layer to convert the 3D feature maps into a 1D feature vector\n",
        "model.add(keras.layers.Flatten())\n",
        "# Dense (fully connected) layer with 64 neurons and ReLU activation\n",
        "model.add(keras.layers.Dense(64, activation='relu'))\n"
      ],
      "metadata": {
        "id": "gfn5UEan34f2"
      },
      "execution_count": 133,
      "outputs": []
    },
    {
      "cell_type": "code",
      "source": [
        "# Dense layer with 64 neurons and ReLU activation\n",
        "model.add(keras.layers.Dense(64, activation='relu'))\n",
        "# Output layer with 'num_classes' neurons and softmax activation, representing class probabilities\n",
        "model.add(keras.layers.Dense(NUM_CLASSES, activation='softmax', name='classifier_head'))\n"
      ],
      "metadata": {
        "id": "Y3BnVp0W4EJi"
      },
      "execution_count": 134,
      "outputs": []
    },
    {
      "cell_type": "code",
      "source": [
        "model.compile(optimizer='adam',\n",
        "              loss='categorical_crossentropy',\n",
        "              metrics=['accuracy'])\n"
      ],
      "metadata": {
        "id": "27uw00FY4IA_"
      },
      "execution_count": 135,
      "outputs": []
    },
    {
      "cell_type": "code",
      "source": [
        "history = model.fit(X_train, y_train, epochs=20)"
      ],
      "metadata": {
        "id": "qbzwWxP95wER",
        "outputId": "d8f35f13-85b3-47c9-fbb3-1d872ba736d8",
        "colab": {
          "base_uri": "https://localhost:8080/"
        }
      },
      "execution_count": 136,
      "outputs": [
        {
          "output_type": "stream",
          "name": "stdout",
          "text": [
            "Epoch 1/20\n",
            "\u001b[1m12/12\u001b[0m \u001b[32m━━━━━━━━━━━━━━━━━━━━\u001b[0m\u001b[37m\u001b[0m \u001b[1m6s\u001b[0m 347ms/step - accuracy: 0.2731 - loss: 1.3827\n",
            "Epoch 2/20\n",
            "\u001b[1m12/12\u001b[0m \u001b[32m━━━━━━━━━━━━━━━━━━━━\u001b[0m\u001b[37m\u001b[0m \u001b[1m5s\u001b[0m 333ms/step - accuracy: 0.2835 - loss: 1.3498\n",
            "Epoch 3/20\n",
            "\u001b[1m12/12\u001b[0m \u001b[32m━━━━━━━━━━━━━━━━━━━━\u001b[0m\u001b[37m\u001b[0m \u001b[1m5s\u001b[0m 305ms/step - accuracy: 0.2964 - loss: 1.3713\n",
            "Epoch 4/20\n",
            "\u001b[1m12/12\u001b[0m \u001b[32m━━━━━━━━━━━━━━━━━━━━\u001b[0m\u001b[37m\u001b[0m \u001b[1m7s\u001b[0m 479ms/step - accuracy: 0.3167 - loss: 1.3692\n",
            "Epoch 5/20\n",
            "\u001b[1m12/12\u001b[0m \u001b[32m━━━━━━━━━━━━━━━━━━━━\u001b[0m\u001b[37m\u001b[0m \u001b[1m4s\u001b[0m 310ms/step - accuracy: 0.2399 - loss: 1.3741\n",
            "Epoch 6/20\n",
            "\u001b[1m12/12\u001b[0m \u001b[32m━━━━━━━━━━━━━━━━━━━━\u001b[0m\u001b[37m\u001b[0m \u001b[1m5s\u001b[0m 309ms/step - accuracy: 0.2566 - loss: 1.3648\n",
            "Epoch 7/20\n",
            "\u001b[1m12/12\u001b[0m \u001b[32m━━━━━━━━━━━━━━━━━━━━\u001b[0m\u001b[37m\u001b[0m \u001b[1m6s\u001b[0m 394ms/step - accuracy: 0.2927 - loss: 1.3698\n",
            "Epoch 8/20\n",
            "\u001b[1m12/12\u001b[0m \u001b[32m━━━━━━━━━━━━━━━━━━━━\u001b[0m\u001b[37m\u001b[0m \u001b[1m4s\u001b[0m 304ms/step - accuracy: 0.2960 - loss: 1.3744\n",
            "Epoch 9/20\n",
            "\u001b[1m12/12\u001b[0m \u001b[32m━━━━━━━━━━━━━━━━━━━━\u001b[0m\u001b[37m\u001b[0m \u001b[1m6s\u001b[0m 355ms/step - accuracy: 0.3221 - loss: 1.3694\n",
            "Epoch 10/20\n",
            "\u001b[1m12/12\u001b[0m \u001b[32m━━━━━━━━━━━━━━━━━━━━\u001b[0m\u001b[37m\u001b[0m \u001b[1m5s\u001b[0m 311ms/step - accuracy: 0.2900 - loss: 1.3702\n",
            "Epoch 11/20\n",
            "\u001b[1m12/12\u001b[0m \u001b[32m━━━━━━━━━━━━━━━━━━━━\u001b[0m\u001b[37m\u001b[0m \u001b[1m5s\u001b[0m 304ms/step - accuracy: 0.2740 - loss: 1.3775\n",
            "Epoch 12/20\n",
            "\u001b[1m12/12\u001b[0m \u001b[32m━━━━━━━━━━━━━━━━━━━━\u001b[0m\u001b[37m\u001b[0m \u001b[1m7s\u001b[0m 458ms/step - accuracy: 0.2827 - loss: 1.3814\n",
            "Epoch 13/20\n",
            "\u001b[1m12/12\u001b[0m \u001b[32m━━━━━━━━━━━━━━━━━━━━\u001b[0m\u001b[37m\u001b[0m \u001b[1m4s\u001b[0m 305ms/step - accuracy: 0.3037 - loss: 1.3756\n",
            "Epoch 14/20\n",
            "\u001b[1m12/12\u001b[0m \u001b[32m━━━━━━━━━━━━━━━━━━━━\u001b[0m\u001b[37m\u001b[0m \u001b[1m5s\u001b[0m 306ms/step - accuracy: 0.2991 - loss: 1.3605\n",
            "Epoch 15/20\n",
            "\u001b[1m12/12\u001b[0m \u001b[32m━━━━━━━━━━━━━━━━━━━━\u001b[0m\u001b[37m\u001b[0m \u001b[1m6s\u001b[0m 368ms/step - accuracy: 0.3321 - loss: 1.3548\n",
            "Epoch 16/20\n",
            "\u001b[1m12/12\u001b[0m \u001b[32m━━━━━━━━━━━━━━━━━━━━\u001b[0m\u001b[37m\u001b[0m \u001b[1m4s\u001b[0m 300ms/step - accuracy: 0.3124 - loss: 1.3680\n",
            "Epoch 17/20\n",
            "\u001b[1m12/12\u001b[0m \u001b[32m━━━━━━━━━━━━━━━━━━━━\u001b[0m\u001b[37m\u001b[0m \u001b[1m4s\u001b[0m 307ms/step - accuracy: 0.2888 - loss: 1.3762\n",
            "Epoch 18/20\n",
            "\u001b[1m12/12\u001b[0m \u001b[32m━━━━━━━━━━━━━━━━━━━━\u001b[0m\u001b[37m\u001b[0m \u001b[1m6s\u001b[0m 332ms/step - accuracy: 0.2709 - loss: 1.3738\n",
            "Epoch 19/20\n",
            "\u001b[1m12/12\u001b[0m \u001b[32m━━━━━━━━━━━━━━━━━━━━\u001b[0m\u001b[37m\u001b[0m \u001b[1m4s\u001b[0m 301ms/step - accuracy: 0.2981 - loss: 1.3727\n",
            "Epoch 20/20\n",
            "\u001b[1m12/12\u001b[0m \u001b[32m━━━━━━━━━━━━━━━━━━━━\u001b[0m\u001b[37m\u001b[0m \u001b[1m6s\u001b[0m 423ms/step - accuracy: 0.3179 - loss: 1.3745\n"
          ]
        }
      ]
    },
    {
      "cell_type": "code",
      "source": [
        "accuracy = history.history['accuracy'][-1]\n",
        "print(f\"Training accuracy: {accuracy}\")"
      ],
      "metadata": {
        "id": "sQaZ20aB4QJr",
        "outputId": "296c5f34-ce37-473b-8e3f-0a914ce99d66",
        "colab": {
          "base_uri": "https://localhost:8080/"
        }
      },
      "execution_count": 137,
      "outputs": [
        {
          "output_type": "stream",
          "name": "stdout",
          "text": [
            "Training accuracy: 0.2921348214149475\n"
          ]
        }
      ]
    },
    {
      "cell_type": "code",
      "source": [
        "from sklearn.metrics import classification_report, confusion_matrix\n",
        "import seaborn as sns\n",
        "import matplotlib.pyplot as plt\n",
        "\n",
        "# Evaluate on the test set\n",
        "test_loss, test_accuracy = model.evaluate(X_test, y_test)\n",
        "print(f\"Test Accuracy: {test_accuracy * 100:.2f}%\")\n",
        "\n",
        "# Predict on test set\n",
        "y_pred = model.predict(X_test)\n",
        "y_pred_classes = np.argmax(y_pred, axis=1)\n",
        "y_true_classes = np.argmax(y_test, axis=1)"
      ],
      "metadata": {
        "id": "Id-GirFY6pUY",
        "outputId": "4cc2d142-8b54-4144-b276-ee306da68342",
        "colab": {
          "base_uri": "https://localhost:8080/"
        }
      },
      "execution_count": 138,
      "outputs": [
        {
          "output_type": "stream",
          "name": "stdout",
          "text": [
            "\u001b[1m4/4\u001b[0m \u001b[32m━━━━━━━━━━━━━━━━━━━━\u001b[0m\u001b[37m\u001b[0m \u001b[1m1s\u001b[0m 109ms/step - accuracy: 0.2731 - loss: 1.3704\n",
            "Test Accuracy: 29.46%\n",
            "\u001b[1m4/4\u001b[0m \u001b[32m━━━━━━━━━━━━━━━━━━━━\u001b[0m\u001b[37m\u001b[0m \u001b[1m1s\u001b[0m 117ms/step\n"
          ]
        }
      ]
    },
    {
      "cell_type": "code",
      "source": [
        "# Classification report\n",
        "print(\"Classification Report:\")\n",
        "print(classification_report(y_true_classes, y_pred_classes, target_names=[str(cls) for cls in label_encoder.classes_])) # Convert label_encoder.classes_ elements to strings\n",
        "\n",
        "# Confusion Matrix\n",
        "conf_matrix = confusion_matrix(y_true_classes, y_pred_classes)\n",
        "plt.figure(figsize=(10, 8))\n",
        "sns.heatmap(conf_matrix, annot=True, fmt='d', cmap='Blues', xticklabels=[str(cls) for cls in label_encoder.classes_], yticklabels=[str(cls) for cls in label_encoder.classes_]) # Convert label_encoder.classes_ elements to strings for xticklabels and yticklabels\n",
        "plt.xlabel('Predicted')\n",
        "plt.ylabel('Actual')\n",
        "plt.title('Confusion Matrix')\n",
        "plt.show()"
      ],
      "metadata": {
        "id": "FgvSuuHI6-39",
        "outputId": "a9740558-e43e-4c6c-ef16-5bfe6656b67a",
        "colab": {
          "base_uri": "https://localhost:8080/",
          "height": 1000
        }
      },
      "execution_count": 139,
      "outputs": [
        {
          "output_type": "stream",
          "name": "stdout",
          "text": [
            "Classification Report:\n",
            "              precision    recall  f1-score   support\n",
            "\n",
            "           0       0.00      0.00      0.00        20\n",
            "           1       0.29      1.00      0.46        33\n",
            "           2       0.00      0.00      0.00        29\n",
            "           3       0.00      0.00      0.00        30\n",
            "\n",
            "    accuracy                           0.29       112\n",
            "   macro avg       0.07      0.25      0.11       112\n",
            "weighted avg       0.09      0.29      0.13       112\n",
            "\n"
          ]
        },
        {
          "output_type": "stream",
          "name": "stderr",
          "text": [
            "/usr/local/lib/python3.10/dist-packages/sklearn/metrics/_classification.py:1531: UndefinedMetricWarning: Precision is ill-defined and being set to 0.0 in labels with no predicted samples. Use `zero_division` parameter to control this behavior.\n",
            "  _warn_prf(average, modifier, f\"{metric.capitalize()} is\", len(result))\n",
            "/usr/local/lib/python3.10/dist-packages/sklearn/metrics/_classification.py:1531: UndefinedMetricWarning: Precision is ill-defined and being set to 0.0 in labels with no predicted samples. Use `zero_division` parameter to control this behavior.\n",
            "  _warn_prf(average, modifier, f\"{metric.capitalize()} is\", len(result))\n",
            "/usr/local/lib/python3.10/dist-packages/sklearn/metrics/_classification.py:1531: UndefinedMetricWarning: Precision is ill-defined and being set to 0.0 in labels with no predicted samples. Use `zero_division` parameter to control this behavior.\n",
            "  _warn_prf(average, modifier, f\"{metric.capitalize()} is\", len(result))\n"
          ]
        },
        {
          "output_type": "display_data",
          "data": {
            "text/plain": [
              "<Figure size 1000x800 with 2 Axes>"
            ],
            "image/png": "[encoded data removed]"
          },
          "metadata": {}
        }
      ]
    }
  ]
}
